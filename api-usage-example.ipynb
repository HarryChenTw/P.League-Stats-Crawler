{
 "cells": [
  {
   "cell_type": "code",
   "execution_count": 1,
   "metadata": {},
   "outputs": [
    {
     "name": "stdout",
     "output_type": "stream",
     "text": [
      "season :  ['2020-21', '2021-22']\n",
      "game_type :  ['例行賽', '季後賽', '總冠軍賽']\n",
      "team :  ['全部球隊', '臺北富邦勇士', '新北國王', '桃園領航猿', '新竹街口攻城獅', '福爾摩沙台新夢想家', '高雄鋼鐵人']\n",
      "stat_type :  ['平均', '累計']\n"
     ]
    }
   ],
   "source": [
    "from API.PlayerStatisticTable import PlayerStatisticTable\n",
    "player_ststistic_table = PlayerStatisticTable()"
   ]
  },
  {
   "cell_type": "code",
   "execution_count": 5,
   "metadata": {},
   "outputs": [
    {
     "data": {
      "text/html": [
       "<div>\n",
       "<style scoped>\n",
       "    .dataframe tbody tr th:only-of-type {\n",
       "        vertical-align: middle;\n",
       "    }\n",
       "\n",
       "    .dataframe tbody tr th {\n",
       "        vertical-align: top;\n",
       "    }\n",
       "\n",
       "    .dataframe thead th {\n",
       "        text-align: right;\n",
       "    }\n",
       "</style>\n",
       "<table border=\"1\" class=\"dataframe\">\n",
       "  <thead>\n",
       "    <tr style=\"text-align: right;\">\n",
       "      <th></th>\n",
       "      <th>球員</th>\n",
       "      <th>背號</th>\n",
       "      <th>球隊</th>\n",
       "      <th>出賽次數</th>\n",
       "      <th>時間 (分)</th>\n",
       "      <th>兩分命中</th>\n",
       "      <th>兩分出手</th>\n",
       "      <th>兩分%</th>\n",
       "      <th>三分命中</th>\n",
       "      <th>三分出手</th>\n",
       "      <th>...</th>\n",
       "      <th>罰球%</th>\n",
       "      <th>得分</th>\n",
       "      <th>攻板</th>\n",
       "      <th>防板</th>\n",
       "      <th>籃板</th>\n",
       "      <th>助攻</th>\n",
       "      <th>抄截</th>\n",
       "      <th>阻攻</th>\n",
       "      <th>失誤</th>\n",
       "      <th>犯規</th>\n",
       "    </tr>\n",
       "  </thead>\n",
       "  <tbody>\n",
       "    <tr>\n",
       "      <th>0</th>\n",
       "      <td>高國豪</td>\n",
       "      <td>4</td>\n",
       "      <td>新竹街口攻城獅</td>\n",
       "      <td>5</td>\n",
       "      <td>40:26</td>\n",
       "      <td>3.4</td>\n",
       "      <td>8</td>\n",
       "      <td>42.5%</td>\n",
       "      <td>2.4</td>\n",
       "      <td>6</td>\n",
       "      <td>...</td>\n",
       "      <td>90%</td>\n",
       "      <td>15.8</td>\n",
       "      <td>1.2</td>\n",
       "      <td>4.2</td>\n",
       "      <td>5.4</td>\n",
       "      <td>4.8</td>\n",
       "      <td>1.8</td>\n",
       "      <td>0</td>\n",
       "      <td>2.2</td>\n",
       "      <td>3.2</td>\n",
       "    </tr>\n",
       "    <tr>\n",
       "      <th>1</th>\n",
       "      <td>法獅</td>\n",
       "      <td>7</td>\n",
       "      <td>新竹街口攻城獅</td>\n",
       "      <td>3</td>\n",
       "      <td>36:57</td>\n",
       "      <td>2</td>\n",
       "      <td>7</td>\n",
       "      <td>28.57%</td>\n",
       "      <td>2.67</td>\n",
       "      <td>9</td>\n",
       "      <td>...</td>\n",
       "      <td>100%</td>\n",
       "      <td>16</td>\n",
       "      <td>1</td>\n",
       "      <td>5.33</td>\n",
       "      <td>6.33</td>\n",
       "      <td>4.33</td>\n",
       "      <td>1.33</td>\n",
       "      <td>0.33</td>\n",
       "      <td>4</td>\n",
       "      <td>1.33</td>\n",
       "    </tr>\n",
       "    <tr>\n",
       "      <th>2</th>\n",
       "      <td>辛巴</td>\n",
       "      <td>35</td>\n",
       "      <td>新竹街口攻城獅</td>\n",
       "      <td>5</td>\n",
       "      <td>35:47</td>\n",
       "      <td>10.6</td>\n",
       "      <td>13.4</td>\n",
       "      <td>79.1%</td>\n",
       "      <td>0</td>\n",
       "      <td>0</td>\n",
       "      <td>...</td>\n",
       "      <td>57.14%</td>\n",
       "      <td>27.6</td>\n",
       "      <td>6.6</td>\n",
       "      <td>9.4</td>\n",
       "      <td>16</td>\n",
       "      <td>1.4</td>\n",
       "      <td>0</td>\n",
       "      <td>2.6</td>\n",
       "      <td>1.6</td>\n",
       "      <td>1.2</td>\n",
       "    </tr>\n",
       "  </tbody>\n",
       "</table>\n",
       "<p>3 rows × 23 columns</p>\n",
       "</div>"
      ],
      "text/plain": [
       "    球員  背號       球隊 出賽次數 時間 (分)  兩分命中  兩分出手     兩分%  三分命中 三分出手  ...     罰球%  \\\n",
       "0  高國豪   4  新竹街口攻城獅    5  40:26   3.4     8   42.5%   2.4    6  ...     90%   \n",
       "1   法獅   7  新竹街口攻城獅    3  36:57     2     7  28.57%  2.67    9  ...    100%   \n",
       "2   辛巴  35  新竹街口攻城獅    5  35:47  10.6  13.4   79.1%     0    0  ...  57.14%   \n",
       "\n",
       "     得分   攻板    防板    籃板    助攻    抄截    阻攻   失誤    犯規  \n",
       "0  15.8  1.2   4.2   5.4   4.8   1.8     0  2.2   3.2  \n",
       "1    16    1  5.33  6.33  4.33  1.33  0.33    4  1.33  \n",
       "2  27.6  6.6   9.4    16   1.4     0   2.6  1.6   1.2  \n",
       "\n",
       "[3 rows x 23 columns]"
      ]
     },
     "execution_count": 5,
     "metadata": {},
     "output_type": "execute_result"
    }
   ],
   "source": [
    "table = player_ststistic_table.get_table(season='2021-22',game_type='總冠軍賽',team='新竹街口攻城獅',stat_type='平均')\n",
    "table.head(3)"
   ]
  },
  {
   "cell_type": "code",
   "execution_count": null,
   "metadata": {},
   "outputs": [],
   "source": []
  }
 ],
 "metadata": {
  "interpreter": {
   "hash": "d326df0997336569a6cb4b09cda7a311754fc5f69313f1b84e31c498c14d57f4"
  },
  "kernelspec": {
   "display_name": "Python 3.8.8 ('base')",
   "language": "python",
   "name": "python3"
  },
  "language_info": {
   "codemirror_mode": {
    "name": "ipython",
    "version": 3
   },
   "file_extension": ".py",
   "mimetype": "text/x-python",
   "name": "python",
   "nbconvert_exporter": "python",
   "pygments_lexer": "ipython3",
   "version": "3.8.8"
  },
  "orig_nbformat": 4
 },
 "nbformat": 4,
 "nbformat_minor": 2
}
